{
  "nbformat": 4,
  "nbformat_minor": 0,
  "metadata": {
    "colab": {
      "name": "Regression.ipynb",
      "provenance": [],
      "mount_file_id": "1xEtZcRlDNpaNwrR01Z_wCEmQic7JwrJp",
      "authorship_tag": "ABX9TyPw8iDaaWvE5ENKVQLwbzGp"
    },
    "kernelspec": {
      "name": "python3",
      "display_name": "Python 3"
    },
    "language_info": {
      "name": "python"
    }
  },
  "cells": [
    {
      "cell_type": "markdown",
      "source": [
        "# Linear Regression"
      ],
      "metadata": {
        "id": "hN1FsP8qgDE9"
      }
    },
    {
      "cell_type": "code",
      "source": [
        "import pandas as pd\n",
        "import matplotlib.pyplot as plt\n",
        "from sklearn import linear_model\n",
        "\n",
        "df = pd.read_csv('prices.csv')\n",
        "print(df)\n",
        "plt.xlabel('area')\n",
        "plt.ylabel('prices')\n",
        "plt.scatter(df.area,df.price,color=\"red\")\n",
        "plt.show()\n",
        "\n",
        "reg = linear_model.LinearRegression()\n",
        "reg.fit(df[['area']],df[['price']])\n",
        "print(reg.predict([[3300]]))\n",
        "\n",
        "# y = bo + b1x\n",
        "print(reg.coef_)    # b1\n",
        "print(reg.intercept_)  #bo\n",
        "print(reg.intercept_ + reg.coef_ * 3300)"
      ],
      "metadata": {
        "colab": {
          "base_uri": "https://localhost:8080/",
          "height": 536
        },
        "id": "REZU3tZIX4uw",
        "outputId": "e6038f78-132b-48e8-aff2-d878ba5029ce"
      },
      "execution_count": null,
      "outputs": [
        {
          "output_type": "stream",
          "name": "stdout",
          "text": [
            "   area    price\n",
            "0  2000   450000\n",
            "1  2865   713125\n",
            "2  3175   971250\n",
            "3  3500  1240000\n",
            "4  4200  1943970\n",
            "5  5000  3497000\n"
          ]
        },
        {
          "output_type": "display_data",
          "data": {
            "text/plain": [
              "<Figure size 432x288 with 1 Axes>"
            ],
            "image/png": "[encoded data removed]"
          },
          "metadata": {
            "needs_background": "light"
          }
        },
        {
          "output_type": "stream",
          "name": "stdout",
          "text": [
            "[[1310924.38507388]]\n",
            "[[1010.42413783]]\n",
            "[-2023475.26975293]\n",
            "[[1310924.38507388]]\n"
          ]
        },
        {
          "output_type": "stream",
          "name": "stderr",
          "text": [
            "/usr/local/lib/python3.7/dist-packages/sklearn/base.py:451: UserWarning: X does not have valid feature names, but LinearRegression was fitted with feature names\n",
            "  \"X does not have valid feature names, but\"\n"
          ]
        }
      ]
    },
    {
      "cell_type": "markdown",
      "source": [
        "# Multiple Linear Regression"
      ],
      "metadata": {
        "id": "0-hdEaiqgUFe"
      }
    },
    {
      "cell_type": "code",
      "source": [
        "import pandas as pd\n",
        "from sklearn import linear_model\n",
        "\n",
        "df = pd.read_csv('orderdata.csv')\n",
        "print(df)\n",
        "\n",
        "reg = linear_model.LinearRegression()\n",
        "reg.fit(df[['users','orders','age']],df.amount)\n",
        "print(reg.predict([[6000,22000,22]]))"
      ],
      "metadata": {
        "colab": {
          "base_uri": "https://localhost:8080/"
        },
        "id": "nxSTts4BSV5f",
        "outputId": "61130aef-d597-4850-bbbc-c333ed0a6078"
      },
      "execution_count": null,
      "outputs": [
        {
          "output_type": "stream",
          "name": "stdout",
          "text": [
            "   users  orders  age   amount\n",
            "0   2000    4500   35   450000\n",
            "1   2865    5705   32   713125\n",
            "2   3175    6475   30   971250\n",
            "3   3500    7750   28  1240000\n",
            "4   4200    9257   26  1943970\n",
            "5   5000   13450   24  3497000\n",
            "[6907563.33074529]\n"
          ]
        },
        {
          "output_type": "stream",
          "name": "stderr",
          "text": [
            "/usr/local/lib/python3.7/dist-packages/sklearn/base.py:451: UserWarning: X does not have valid feature names, but LinearRegression was fitted with feature names\n",
            "  \"X does not have valid feature names, but\"\n"
          ]
        }
      ]
    }
  ]
}