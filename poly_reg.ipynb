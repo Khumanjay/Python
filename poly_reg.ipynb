{
  "nbformat": 4,
  "nbformat_minor": 0,
  "metadata": {
    "colab": {
      "name": "poly_reg.ipynb",
      "provenance": [],
      "authorship_tag": "ABX9TyNHhEnqHRhKdOfToC1s6mz4"
    },
    "kernelspec": {
      "name": "python3",
      "display_name": "Python 3"
    },
    "language_info": {
      "name": "python"
    }
  },
  "cells": [
    {
      "cell_type": "markdown",
      "source": [
        "# **Polynomial Regression**\n",
        "* Read data from csv file and plotting it in Polynomial Regression.\n",
        "* Polynomial Regression provides a great defined relationship between the independent and dependent variables."
      ],
      "metadata": {
        "id": "4bWImjslS3a0"
      }
    },
    {
      "cell_type": "code",
      "execution_count": null,
      "metadata": {
        "colab": {
          "base_uri": "https://localhost:8080/",
          "height": 432
        },
        "id": "Qg73nKGUS14I",
        "outputId": "13ae257d-2102-48f7-f897-f4d429b01ece"
      },
      "outputs": [
        {
          "output_type": "stream",
          "name": "stdout",
          "text": [
            "                 orders  days   amount\n",
            "0          daily_orders     1    44500\n",
            "1    half weekly orders     2   127000\n",
            "2         weekly orders     3   304500\n",
            "3   half monthly orders     4   667500\n",
            "4        monthly orders     5  1350000\n",
            "5  half quarterly order     6  2047500\n",
            "6      quarterly orders     7  4041000\n"
          ]
        },
        {
          "output_type": "display_data",
          "data": {
            "text/plain": [
              "<Figure size 432x288 with 1 Axes>"
            ],
            "image/png": "[encoded data removed]"
          },
          "metadata": {
            "needs_background": "light"
          }
        },
        {
          "output_type": "stream",
          "name": "stdout",
          "text": [
            "[[7649857.14285589]]\n"
          ]
        }
      ],
      "source": [
        "import matplotlib.pyplot as plt\n",
        "import  numpy as np\n",
        "import pandas as pd\n",
        "from sklearn.linear_model import  LinearRegression\n",
        "from sklearn.preprocessing import PolynomialFeatures\n",
        "\n",
        "df = pd.read_csv('orders.csv')\n",
        "print(df)\n",
        "\n",
        "plt.scatter(df.days,df.amount)\n",
        "poly = PolynomialFeatures(degree=4)\n",
        "x_poly = poly.fit_transform(df[['days']])\n",
        "\n",
        "reg = LinearRegression()\n",
        "reg.fit(x_poly,df[['amount']])\n",
        "\n",
        "plt.plot(df[['days']].values,reg.predict(poly.fit_transform(df[['days']])))\n",
        "plt.show()\n",
        "\n",
        "\n",
        "\n",
        "print(reg.predict(poly.fit_transform([[8]])))"
      ]
    }
  ]
}