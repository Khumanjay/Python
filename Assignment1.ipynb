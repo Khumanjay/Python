{
  "nbformat": 4,
  "nbformat_minor": 0,
  "metadata": {
    "colab": {
      "name": "Assignment1.ipynb",
      "provenance": [],
      "collapsed_sections": [],
      "authorship_tag": "ABX9TyNNmKvFN6IaTiB7Bh1SMlxP"
    },
    "kernelspec": {
      "name": "python3",
      "display_name": "Python 3"
    },
    "language_info": {
      "name": "python"
    }
  },
  "cells": [
    {
      "cell_type": "markdown",
      "source": [
        "# **Assignment1_q1.py**"
      ],
      "metadata": {
        "id": "twCegE0JNKRc"
      }
    },
    {
      "cell_type": "code",
      "source": [
        "import requests\n",
        "\n",
        "response = requests.get(\"https://inshortsapi.vercel.app/news?category=sports\")\n",
        "data = response.json()\n",
        "print('Main keys- ', len(data))\n",
        "print('Main keys are - ')\n",
        "for i in data:\n",
        "    print(i)\n",
        "\n",
        "print('Total news- ', len(data['data']))\n",
        "\n",
        "for i in range(0,len(data[\"data\"])):\n",
        "    print(i+1,'News: ',data['data'][i]['content'], ', Author: ', data['data'][i]['author'],', Date: ', data['data'][i]['date'])"
      ],
      "metadata": {
        "colab": {
          "base_uri": "https://localhost:8080/"
        },
        "id": "EHC916QKNT0P",
        "outputId": "cd3c6f26-3d65-4359-d553-685e9a24f9a9"
      },
      "execution_count": null,
      "outputs": [
        {
          "output_type": "stream",
          "name": "stdout",
          "text": [
            "Main keys-  3\n",
            "Main keys are - \n",
            "category\n",
            "data\n",
            "success\n",
            "Total news-  25\n",
            "1 News:  World number one chess player Magnus Carlsen, who's the defending world chess champion, said that he'll not defend his world championship title in 2023. \"I am not motivated to play another match. I simply feel that I don't have a lot to gain,\" he said. \"It didn't mean anything to me,\" he added, talking about defending the title in 2021. , Author:  Anmol Sharma , Date:  20 Jul 2022,Wednesday\n",
            "2 News:  The BCCI spent around ₹3.5 crore on booking a chartered flight for India to reach West Indies from United Kingdom, reports said. \"The reason a chartered flight was booked for the team was not COVID-19. It's difficult to book so many tickets in a commercial flight,\" a BCCI source said. \"It was a logical option to take,\" the source added. , Author:  Anmol Sharma , Date:  21 Jul 2022,Thursday\n",
            "3 News:  Commonwealth Games 2022-bound athletes Dhanalakshmi and Aishwarya Babu have failed dope test, as per reports. Sprinter Dhanalakshmi returned positive for a banned steroid, while Aishwarya returned positive for a banned substance after NADA officials took her sample during National Inter-State Athletics Championships last month. Aishwarya had broken the triple jump national record during the meet. , Author:  Anmol Sharma , Date:  20 Jul 2022,Wednesday\n",
            "4 News:  The ICC on Wednesday announced the latest rankings for ODI batters. Virat Kohli and Rohit Sharma dropped down one place each to be ranked fourth and fifth, respectively. Meanwhile, Rishabh Pant, who slammed his maiden ODI hundred in the third ODI against England, jumped 25 places to be ranked 52nd. Further, Hardik Pandya jumped eight places to be ranked 42nd. , Author:  Anmol Sharma , Date:  20 Jul 2022,Wednesday\n",
            "5 News:  Former Pakistan fast bowler Shoaib Akhtar has said that Team India wicketkeeper-batter Rishabh Pant is a little overweight. He added, \"I hope he takes care of that. Because India's market is big. He's good-looking. He can emerge as a model, earn in crores.\" Akhtar further said, \"In times to come, Rishabh Pant is going to be a superstar.\" , Author:  Anmol Sharma , Date:  20 Jul 2022,Wednesday\n",
            "6 News:  Twenty one-time Grand Slam champion Novak Djokovic is set to miss the 2022 US Open after the organisers confirmed that they will follow the government's rules on non-citizens being fully vaccinated against coronavirus in order to enter the country. Meanwhile, Djokovic recently made it clear that he would not take the vaccine just to compete in tournaments.  , Author:  Ankur Taliyan , Date:  21 Jul 2022,Thursday\n",
            "7 News:  The ICC on Wednesday released the latest rankings for men's ODI bowlers. India pacer Jasprit Bumrah, who didn't feature in India's third ODI against England, dropped to the second spot in the rankings. New Zealand fast bowler Trent Boult replaced him as the world number one ODI bowler. Meanwhile, India leg-spinner Yuzvendra Chahal jumped four spots to the 16th position , Author:  Anmol Sharma , Date:  20 Jul 2022,Wednesday\n",
            "8 News:  New Zealand all-rounder Michael Bracewell has become the first cricketer to take hat-trick in his first-ever over in T20I cricket. The 31-year-old off-spinner dismissed Ireland's Mark Adair, Barry McCarthy and Craig Young in consecutive deliveries to achieve the feat. His figures in the match read 0.5-0-5-3. Overall, he's the third New Zealand cricketer to take hat-trick in men's T20I cricket.  , Author:  Anmol Sharma , Date:  21 Jul 2022,Thursday\n",
            "9 News:  After recording the highest successful Test run chase in Galle to defeat Sri Lanka in the first Test, Pakistan now have 58.33% of points won in the World Test Championship (WTC). Pakistan are on the third position on the WTC points table, while Sri Lanka are sixth with 48.15% of points won. India are fourth on the table. , Author:  Anmol Sharma , Date:  21 Jul 2022,Thursday\n",
            "10 News:  Shoaib Akhtar said Hardik Pandya got a \"good shock\" when he was out of the team for one-two years as he was unfit and casual. \"He's become serious about his fitness,\" added Akhtar. Talking about Rishabh Pant, Akhtar stated, \"My advice...would be to improve his physique...He is a little overweight.\" \"He's good-looking...[and] can emerge as a model, earn in crores.\" , Author:  Arnab Mukherji  , Date:  20 Jul 2022,Wednesday\n",
            "11 News:  West Indies coach Phil Simmons has said their priority is to bat out the entire 50 overs in the ODIs against India. \"Somebody has to be looking to score a hundred and hold the team together,\" stated Simmons. \"India are a stronger bowling team but we expect a better batting performance,\" he added. The first ODI will be played tomorrow.  , Author:  Ankur Taliyan , Date:  21 Jul 2022,Thursday\n",
            "12 News:  With several key players being rested for the ODI series against West Indies, ex-India pacer RP Singh has said that the three-match series is a \"big opportunity\" for Team India's bench players. \"Back-to-back good performances can keep you in the team for a long time,\" stated Singh. \"India [are] aiming to have one replacement for each player,\" he added.  , Author:  Ankur Taliyan , Date:  21 Jul 2022,Thursday\n",
            "13 News:  Ex-Australia spinner Brad Hogg said Virat Kohli and Rohit Sharma were forced to play away from the body when the ball didn't come back in, while batting against England pacer Reece Topley in the recent ODI series. \"That was their downfall [against Topley who gets extra bounce],\" added Hogg. Topley dismissed Rohit Sharma twice in the three-match ODI series. , Author:  Arnab Mukherji  , Date:  21 Jul 2022,Thursday\n",
            "14 News:  Ex-New Zealand cricketer Scott Styris has said Shreyas Iyer will be among the first names in India's squad if he can resolve his issues against the short balls. \"It's now up to Shreyas to find a way to succeed against that style of bowling,\" he added. Shreyas was dismissed off short deliveries three times during the multi-format series against England.  , Author:  Ankur Taliyan , Date:  21 Jul 2022,Thursday\n",
            "15 News:  Former India cricketer Pragyan Ojha has said he's curious to see how Deepak Hooda will perform in the three-match ODI series against West Indies, beginning on Friday. \"I wish to see more of Deepak Hooda because he has shown a lot of promise,\" stated Ojha. Hooda has scored 47*, 104 and 33 runs in his last three international games.  , Author:  Ankur Taliyan , Date:  21 Jul 2022,Thursday\n",
            "16 News:  Novak Djokovic's coach Goran Ivanisevic said he is \"more optimistic\" of winning the Croatia Open than Djokovic being able to compete at the US Open. \"A tough and...sad year, it started with a catastrophe in Australia,\" added Ivanisevic. The United States doesn't permit entry to unvaccinated travellers. \"I'm not vaccinated and I'm not planning to get vaccinated,\" Djokovic had said. , Author:  Arnab Mukherji  , Date:  21 Jul 2022,Thursday\n",
            "17 News:  Ex-New Zealand all-rounder Scott Styris said every other team around the world will dance if batter Suryakumar Yadav is not included in India's lineup for the ODIs against West Indies. \"He's got...match-winning potential...No pressure situations get to him,\" added Styris. Suryakumar recently scored 117 off 55 balls in the third T20I against England. He had a strike rate of 212.72. , Author:  Arnab Mukherji  , Date:  21 Jul 2022,Thursday\n",
            "18 News:  West Indies batter Rovman Powell has said the series against India is an opportunity to defeat the \"most favoured and fancy team\" in cricket. \"It provides an opportunity...to stake a claim and make a name against the best cricketers of the world,\" he added. Powell further said that he wants to test himself against Yuzvendra Chahal in the series.  , Author:  Ankur Taliyan , Date:  21 Jul 2022,Thursday\n",
            "19 News:  Reacting to Pakistan opener Abdullah Shafique's 160* which helped his team record the highest successful run chase in Tests, during the first Test against Sri Lanka, ex-Pakistan captain Wasim Akram tweeted, \"Take a bow !\" \"We've seen such a wonderful knock after a long time...[It was] under tremendous pressure...One of the best from a Pakistani I've ever seen,\" added Akram. , Author:  Arnab Mukherji  , Date:  21 Jul 2022,Thursday\n",
            "20 News:  Pakistan recorded the highest successful run chase in Test cricket at the Galle International Stadium as they defeated Sri Lanka by four wickets. Pakistan chased down a target of 342 runs to win the match and take a 1-0 lead in the two-Test series. The previous highest successful fourth-innings chase was 268 by Sri Lanka versus New Zealand in 2019. , Author:  Ankur Taliyan , Date:  20 Jul 2022,Wednesday\n",
            "21 News:  Ex-Sri Lanka pacer Chaminda Vaas said he was in \"tears\" after ex-Australia pacer Dennis Lillee once said that he won't play for his nation. \"I [took it as a challenge, going on to represent Sri Lanka] for 15 years,\" added Vaas. Vaas stated he reminded Lillee about his prediction after playing 60 matches and 100 Tests for Sri Lanka respectively. , Author:  Arnab Mukherji  , Date:  21 Jul 2022,Thursday\n",
            "22 News:  Talking about India's possible playing XI for the 2022 T20 World Cup, ex-Australia captain Ricky Ponting said he would've tried every possible way to have both Rishabh Pant and Dinesh Karthik in his T20I side. \"Rishabh to bat, in that three-four-five range, and have Dinesh and Hardik Pandya...[as finishers],\" stated Ponting. \"I don't think Suryakumar will miss out,\" he added. , Author:  Ankur Taliyan , Date:  21 Jul 2022,Thursday\n",
            "23 News:  England captain Jos Buttler said they couldn't find the spark with the ball in their defeat against South Africa on Tuesday. \"It was a fantastic partnership between Rassie van der Dussen and Aiden Markram and we were not able to break that,\" he stated. South Africa posted 333/5 and then bundled out England for 271 to win the first ODI. , Author:  Ankur Taliyan , Date:  20 Jul 2022,Wednesday\n",
            "24 News:  Following Bayern Munich striker Robert Lewandowski's transfer to Barcelona, Bayern Munich manager Julian Nagelsmann said, \"Barcelona [are] the only club that [have] no money but then...[buy] every player they want.\" \"I do not know how [they do it]. It is kind of weird...crazy,\" added Nagelsmann. Barcelona President Joan Laporta Estruch had recently said the club is in the \"ICU\" financially. , Author:  Arnab Mukherji  , Date:  20 Jul 2022,Wednesday\n",
            "25 News:  Ex-India batter Arun Lal has credited Virat Kohli for \"changing Team India's mindset\" and making them play \"without the fear of losing\". \"There was a time when winning in Test cricket was considered once you secured a draw,\" stated Lal. \"Virat brought that aggression to the team and it [will] get better if Pant continues [his form],\" he added.  , Author:  Ankur Taliyan , Date:  21 Jul 2022,Thursday\n"
          ]
        }
      ]
    },
    {
      "cell_type": "markdown",
      "source": [
        "# **Assignment1_q2.py**"
      ],
      "metadata": {
        "id": "uBi7aaa9M3qO"
      }
    },
    {
      "cell_type": "code",
      "execution_count": null,
      "metadata": {
        "colab": {
          "base_uri": "https://localhost:8080/"
        },
        "id": "e46OXFsvK87r",
        "outputId": "64fd4e56-c76a-456f-b934-1bdffbd50869"
      },
      "outputs": [
        {
          "output_type": "stream",
          "name": "stdout",
          "text": [
            "no of main keys  -  1\n",
            "Main keys - \n",
            "spacecrafts\n",
            "Total Num of spacecrafts  -  112\n",
            "1 : Aryabhata\n",
            "2 : Bhaskara-I\n",
            "3 : Rohini Technology Payload (RTP)\n",
            "4 : Rohini Satellite RS-1\n",
            "5 : Rohini Satellite RS-D1\n",
            "6 : APPLE\n",
            "7 : Bhaskara-II\n",
            "8 : INSAT-1A\n",
            "9 : Rohini Satellite RS-D2\n",
            "10 : INSAT-1B\n",
            "11 : SROSS-1\n",
            "12 : IRS-1A\n",
            "13 : SROSS-2\n",
            "14 : INSAT-1C\n",
            "15 : INSAT-1D\n",
            "16 : IRS-1B\n",
            "17 : SROSS-C\n",
            "18 : INSAT-2A\n",
            "19 : INSAT-2B\n",
            "20 : IRS-1E\n",
            "21 : SROSS-C2\n",
            "22 : IRS-P2\n",
            "23 : INSAT-2C\n",
            "24 : IRS-1C\n",
            "25 : IRS-P3\n",
            "26 : INSAT-2D\n",
            "27 : IRS-1D\n",
            "28 : INSAT-2E\n",
            "29 : Oceansat(IRS-P4)\n",
            "30 : INSAT-3B\n",
            "31 : GSAT-1\n",
            "32 : The Technology Experiment Satellite (TES)\n",
            "33 : INSAT-3C\n",
            "34 : KALPANA-1\n",
            "35 : INSAT-3A\n",
            "36 : GSAT-2\n",
            "37 : INSAT-3E\n",
            "38 : IRS-P6 / RESOURCESAT-1\n",
            "39 : EDUSAT\n",
            "40 : HAMSAT\n",
            "41 : CARTOSAT-1\n",
            "42 : INSAT-4A\n",
            "43 : INSAT-4C\n",
            "44 : SRE-1\n",
            "45 : CARTOSAT-2\n",
            "46 : INSAT-4B\n",
            "47 : INSAT-4CR\n",
            "48 : CARTOSAT – 2A\n",
            "49 : IMS-1\n",
            "50 : Chandrayaan-1\n",
            "51 : RISAT-2\n",
            "52 : Oceansat-2\n",
            "53 : GSAT-4\n",
            "54 : CARTOSAT-2B\n",
            "55 : GSAT-5P\n",
            "56 : YOUTHSAT\n",
            "57 : RESOURCESAT-2\n",
            "58 : GSAT-8\n",
            "59 : GSAT-12\n",
            "60 : Megha-Tropiques\n",
            "61 : RISAT-1\n",
            "62 : GSAT-10\n",
            "63 : SARAL\n",
            "64 : IRNSS-1A\n",
            "65 : INSAT-3D\n",
            "66 : GSAT-7\n",
            "67 : Mars Orbiter Mission Spacecraft\n",
            "68 : GSAT-14\n",
            "69 : IRNSS-1B\n",
            "70 : IRNSS-1C\n",
            "71 : GSAT-16\n",
            "72 : Crew module Atmospheric Re-entry Experiment (CARE)\n",
            "73 : IRNSS-1D\n",
            "74 : GSAT-6\n",
            "75 : Astrosat\n",
            "76 : GSAT-15\n",
            "77 : IRNSS-1E\n",
            "78 : IRNSS-1F\n",
            "79 : IRNSS-1G\n",
            "80 : CARTOSAT-2 Series Satellite\n",
            "81 : INSAT-3DR\n",
            "82 : SCATSAT-1\n",
            "83 : GSAT-18\n",
            "84 : RESOURCESAT-2A\n",
            "85 : INS-1B\n",
            "86 : INS-1A\n",
            "87 : Cartosat -2 Series Satellite\n",
            "88 : GSAT-9\n",
            "89 : GSAT-19\n",
            "90 : Cartosat-2 Series Satellite\n",
            "91 : GSAT-17\n",
            "92 : IRNSS-1H\n",
            "93 : INS-1C\n",
            "94 : Cartosat-2 Series Satellite\n",
            "95 : Microsat\n",
            "96 : GSAT-6A\n",
            "97 : IRNSS-1I\n",
            "98 : GSAT-29\n",
            "99 : HysIS\n",
            "100 : GSAT-11 Mission\n",
            "101 : GSAT-7A\n",
            "102 : Microsat-R\n",
            "103 : GSAT-31\n",
            "104 : EMISAT\n",
            "105 : RISAT-2B\n",
            "106 : Chandrayaan2\n",
            "107 : Cartosat-3\n",
            "108 : RISAT-2BR1\n",
            "109 : GSAT-30\n",
            "110 : EOS-01\n",
            "111 : CMS-01\n",
            "112 : EOS-03\n",
            "Enter the name of space craft: INSAT-2H\n",
            "Not Found\n"
          ]
        }
      ],
      "source": [
        "import requests\n",
        "\n",
        "response = requests.get(\"https://isro.vercel.app/api/spacecrafts\")\n",
        "data = response.json()\n",
        "print('no of main keys  - ', len(data))\n",
        "print('Main keys - ')\n",
        "for i in data:\n",
        "    print(i)\n",
        "\n",
        "print('Total Num of spacecrafts  - ', len(data['spacecrafts']))\n",
        "\n",
        "for i in range(0,len(data[\"spacecrafts\"])):\n",
        "    print(data['spacecrafts'][i]['id'], ':', data['spacecrafts'][i]['name'])\n",
        "\n",
        "userinput = input('Enter the name of space craft: ')\n",
        "\n",
        "for i in range(0,len(data[\"spacecrafts\"])):\n",
        "    if userinput == data['spacecrafts'][i]['name']:\n",
        "        print('Found')\n",
        "else:\n",
        "    print('Not Found')\n"
      ]
    },
    {
      "cell_type": "markdown",
      "source": [
        "# **Assignment1_q3.py**"
      ],
      "metadata": {
        "id": "M8mMdCPZNgPi"
      }
    },
    {
      "cell_type": "code",
      "source": [
        "import matplotlib.pyplot as plt\n",
        "import  requests\n",
        "\n",
        "url1 = requests.get(\"https://isro.vercel.app/api/spacecrafts\")\n",
        "data1 = url1.json()\n",
        "url2 = requests.get(\"https://isro.vercel.app/api/customer_satellites\")\n",
        "data2 = url2.json()\n",
        "\n",
        "isrodata = [len(data1['spacecrafts']),len(data2[\"customer_satellites\"])]\n",
        "plt.pie(isrodata,labels=['ISRO INDIA WORK','FOREIGN WORK'],autopct='%1.0f%%')\n",
        "plt.show()"
      ],
      "metadata": {
        "colab": {
          "base_uri": "https://localhost:8080/",
          "height": 248
        },
        "id": "x6W-3J_BNmR_",
        "outputId": "3b99c9a0-e317-4ce6-cdca-d8cf899dc965"
      },
      "execution_count": null,
      "outputs": [
        {
          "output_type": "display_data",
          "data": {
            "text/plain": [
              "<Figure size 432x288 with 1 Axes>"
            ],
            "image/png": "[encoded data removed]"
          },
          "metadata": {}
        }
      ]
    }
  ]
}